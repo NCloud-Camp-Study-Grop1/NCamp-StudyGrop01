{
  "nbformat": 4,
  "nbformat_minor": 0,
  "metadata": {
    "colab": {
      "provenance": []
    },
    "kernelspec": {
      "name": "python3",
      "display_name": "Python 3"
    },
    "language_info": {
      "name": "python"
    }
  },
  "cells": [
    {
      "cell_type": "markdown",
      "source": [
        "### **Generic**\n",
        "---"
      ],
      "metadata": {
        "id": "tlXs92kCWn5T"
      }
    },
    {
      "cell_type": "markdown",
      "source": [
        "#### **Generic Class** (교재 570p)\n",
        "- 현재 클래스에서 사용할 서브 클래스 혹은 참조 클래스의 타입을 미리 지정하지 않고, 객체를 생성해서 사용할 때 지정할 수 있는 기능\n",
        "\n",
        "- 서브 클래스 혹은 참조 클래스 타입의 활용\n",
        "  - 서브 클래스 혹은 참조 클래스 타입의 변수를 가지고 있거나,\n",
        "  - 서브 클래스 혹은 참조 클래스 타입으로 List, Map 등을 만들 수 있고,\n",
        "  - 서브 크래스 혹은 참조 클래스 타입이 리턴되는 메소드도 미리 정의할 수 있다."
      ],
      "metadata": {
        "id": "O_U_e1RUaNol"
      }
    },
    {
      "cell_type": "markdown",
      "source": [
        "#### **Generic Method** (교재 579p)\n",
        "- 리턴 타입 앞에 <T> 타입 매개변수를 붙여서 리턴 타입이나 매개변수의 타입이 열려 있는 메소드를 정의할 수 있다.\n",
        "- 제네릭 메소드의 타입은 메소드가 호출될 전달되는 매개변수 타입에 따라서 지정된다.\n",
        "---\n",
        "- 배열의 마지막 요소 가져오기\n",
        "\n",
        "```\n",
        "package chap19_generic;\n",
        "\n",
        "public class _04_GenericMethod {\n",
        "  // 제네릭 메소드 구현\n",
        "\tpublic static void main(String[] args) {\n",
        "\t\tString[] strArr = {\"java\", \"db\", \"javascript\", \"html\"};\n",
        "\t\tSystem.out.println(\"strArr의 마지막 요소: \" + getLastElemnt(strArr));\n",
        "    // <출력값>  strArr의 마지막 요소: html\n",
        "\n",
        "\t}\n",
        "\t// 제네릭 메소드 정의\n",
        "\tpublic static <T> T getLastElemnt(T[] tArr) {\n",
        "\t\treturn tArr[tArr.length - 1];\n",
        "\t}\n",
        "}\n",
        "```\n",
        "---\n",
        "- 배열의 마지막 요소 가져오기(매개변수의 타입을 지정할 수 없음)\n",
        "\n",
        "```\n",
        "package chap19_generic;\n",
        "\n",
        "public class _04_GenericMethod {\n",
        "\n",
        "\tpublic static void main(String[] args) {\n",
        "\t\t// 제네릭 메소드 구현\n",
        "        // - 메소드를 호출 할 때, 타입을 지정한다.\n",
        "\t\t// - 메소드명 앞에 타입을 지정\n",
        "\t\t_04_GenericMethod.<Integer> getLastElemnt2(new int[] {1, 2, 3, 4, 5});\n",
        "\n",
        "\t}\n",
        "\t// 제네릭 메소드 정의: 매개변수에서 타입을 지정할 수 없는 메소드\n",
        "\tpublic static <T> Integer getLastElemnt2(int[] tArr) {\n",
        "\t\tT t = null;\n",
        "\t\tSystem.out.println(t);\n",
        "\t\treturn tArr[tArr.length - 1];\n",
        "\t}\n",
        "}\n",
        "```\n",
        "---\n",
        "- 리스트의 마지막 값 리턴하기\n",
        "\n",
        "```\n",
        "package chap19_generic;\n",
        "\n",
        "public class _04_GenericMethod {\n",
        "  // 제네릭 메소드 정의\n",
        "  public static <T> T getLastElements3(List<T> tList){\n",
        "\t  return tList.get(tList.size() - 1);\n",
        "\t}\n",
        "}\n",
        "```\n",
        "---\n",
        "- 맵의 값 합산하기\n",
        "\n",
        "```\n",
        "package chap19_generic;\n",
        "\n",
        "public class _04_GenericMethod {\n",
        "\t// Map의 Key, Value를 모두 제네릭 타입으로 설정하고 싶을 때\n",
        "\t// <K, V> 제네릭을 사용한다.\n",
        "\tpublic static <K, V> int getSumMap(Map<K, V> map) {\n",
        "\t\tint sum = 0;\n",
        "\n",
        "\t\tfor(V v : map.values()) {\n",
        "\t\t\tsum += (int)v;\n",
        "\t\t}\n",
        "\t\treturn sum;\n",
        "\t}\n",
        "}\n",
        "```\n",
        "---\n",
        "- 맵의 최대값 구하기\n",
        "\n",
        "```\n",
        "package chap19_generic;\n",
        "\n",
        "public class _04_GenericMethod {\n",
        "\tpublic static <K, V> K getMaxMap(Map<K, V> map) {\n",
        "\t\tK maxKey = null;\n",
        "\t\tV maxValue = null;\n",
        "\n",
        "\t\tint idx = 0;\n",
        "\n",
        "\t\tfor (Entry<K, V> entry : map.entrySet()) {\n",
        "\t\t\tif (idx == 0) {\n",
        "\t\t\t\tmaxKey = entry.getKey();\n",
        "\t\t\t\tmaxValue = entry.getValue();\n",
        "\t\t\t} else {\n",
        "\t\t\t\tif ((int)maxValue < (int)entry.getValue()) {\n",
        "\t\t\t\t\tmaxKey = entry.getKey();\n",
        "\t\t\t\t\tmaxValue = entry.getValue();\n",
        "\t\t\t\t}\n",
        "\t\t\t}\n",
        "\t\t\tidx++;\n",
        "\t\t}\n",
        "\t\treturn maxKey;\n",
        "\t}\n",
        "}\n",
        "```"
      ],
      "metadata": {
        "id": "lMDff6TezOHU"
      }
    },
    {
      "cell_type": "markdown",
      "source": [
        "#### **Bounded Generic** (교재 581p)\n",
        "- 제네릭에 지정될 타입에 제한을 거는 기능\n",
        "- 방법\n",
        "  - <T extends 부모 클래스>: 부모 클래스와 해당 클래스를 상속 받은 자식 클래스만 타입으로 지정 가능\n",
        "  - <? super 자식 클래스>: 자식 클래스와 해당 클래스에 상속해준 부모 클래스까지만 타입으로 지정 가능\n",
        "    - super 키워드로 제한하는 것은 제네릭 메소드에서만 가능"
      ],
      "metadata": {
        "id": "JgVyoMo3DsuS"
      }
    },
    {
      "cell_type": "markdown",
      "source": [
        "#### **Bounded Generic** (교재 583p)\n",
        "- 타입매개변수를 지정하지 않고, 바로 사용 가능한 제네릭 타입\n",
        "- 제네릭 클래스에서는 사용할 수 없고, 제네릭 메소드에서만 사용 가능\n",
        "- 제네릭 메소드의 리턴 타입이나 매개변수에 타입매개변수 지정 없이 제네릭으로 사용\n",
        "- 타입매개변수와의 차이점\n",
        "  - 단독으로 사용 불가: 제네릭클래스로 정의된 클래스의 서브클래스 타입으로 사용 가능\n",
        "---\n",
        "```\n",
        "public static int getSumList(List<?> wildCardList) {\n",
        "\tint sum = 0;\n",
        "\n",
        "\tfor (int i = 0; i < wildCardList.size(); i++) {\n",
        "\t\tsum += (int)wildCardList.get(i);\n",
        "\t}\n",
        "\treturn sum;\n",
        "}\n",
        "```\n",
        "---\n",
        "\n",
        "- 상한제한: 부모 클래스와 해당 클래스를 상속 받은 자식 클래스만 타입으로 지정 가능\n",
        "- <? extends 부모클래스>\n",
        "\n",
        "```\n",
        "public static int getMaxList(List<? extends Number> wildCarList) {\n",
        "\tint max = (int)wildCarList.get(0).intValue();\n",
        "\n",
        "\tfor (int i = 1; i < wildCarList.size(); i++) {\n",
        "\t\tif (wildCarList.get(i).intValue() > max) {\n",
        "\t\t\tmax = wildCarList.get(i).intValue();\n",
        "\t\t}\n",
        "\t}\n",
        "\treturn max;\n",
        "}\n",
        "```\n",
        "---\n",
        "- 하한제한: 자식클래스에게 상속해준 부모클래스와 자식클래스만 메소드의 리턴타입, 매개변수로 지정 가능\n",
        "- <? super 자식클래스>\n",
        "\n",
        "```\n",
        "public static double getAvgList(List<? super Integer> intList) {\n",
        "\tdouble avg = 0.0;\n",
        "\tdouble sum = 0.0;\n",
        "\n",
        "\tfor (int i = 0; i < intList.size(); i++) {\n",
        "\t\tsum += (double)intList.get(i);\n",
        "\t}\n",
        "\tavg = sum / intList.size();\n",
        "\treturn avg;\n",
        "}\n",
        "```"
      ],
      "metadata": {
        "id": "Sib1B3THZho0"
      }
    },
    {
      "cell_type": "markdown",
      "source": [
        "### **열거형(Enum)** (교재 194p)\n",
        "---"
      ],
      "metadata": {
        "id": "5RT7zewImMq8"
      }
    },
    {
      "cell_type": "markdown",
      "source": [
        "### **ToDoList**\n",
        "---\n",
        "- 강사님 풀이 방식대로 코드를 진행시켜 보고, 해당 코드가 어떻게 작동하는지 다시 한번 이해하는 시간 갖기.\n",
        "- 교재 예시 풀어보기(눈으로 읽어 보는 것도 good)\n",
        "- 코드 풀이 과정 ✅\n",
        "  - sc.close()를 하지 않는 버릇이 있음. -> 주의해서 고치도록 하자"
      ],
      "metadata": {
        "id": "uKjdWtekaTJz"
      }
    }
  ]
}